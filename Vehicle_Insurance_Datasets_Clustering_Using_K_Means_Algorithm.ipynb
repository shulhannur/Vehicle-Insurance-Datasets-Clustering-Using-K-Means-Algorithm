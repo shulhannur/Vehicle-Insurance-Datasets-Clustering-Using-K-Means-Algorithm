{
  "nbformat": 4,
  "nbformat_minor": 0,
  "metadata": {
    "colab": {
      "name": "Vehicle-Insurance Datasets Clustering Using K-Means Algorithm",
      "provenance": [],
      "collapsed_sections": [],
      "toc_visible": true
    },
    "kernelspec": {
      "name": "python3",
      "display_name": "Python 3"
    },
    "language_info": {
      "name": "python"
    }
  },
  "cells": [
    {
      "cell_type": "markdown",
      "metadata": {
        "id": "YWI2qHHufI2w"
      },
      "source": [
        "#CLUSTERING : DATASET KENDARAAN\n",
        "#oleh:\tMuhammad Shulhannur\tmshulhannur@gmail.com\n"
      ]
    },
    {
      "cell_type": "markdown",
      "metadata": {
        "id": "apUncmWwfa6i"
      },
      "source": [
        "#LAKUKAN IMPORT LIBRARIES"
      ]
    },
    {
      "cell_type": "code",
      "metadata": {
        "id": "c5w8dNJmgd1E"
      },
      "source": [
        "#untuk data analysis and manipulation\n",
        "import pandas as pd\n",
        "\n",
        "#untuk matematika\n",
        "import numpy as np\n",
        "\n",
        "#untuk matematika\n",
        "import math\n",
        "\n",
        "#untuk generate random number\n",
        "import random\n",
        "\n",
        "#untuk grafik 2D\n",
        "import matplotlib.pyplot as plt\n",
        "\n",
        "#untuk visualisasi data ke grafik 2D berbasis matplotlib\n",
        "import seaborn as sns\n",
        "\n",
        "#untuk url\n",
        "import io\n",
        "\n",
        "#untuk request file from url\n",
        "import requests"
      ],
      "execution_count": null,
      "outputs": []
    },
    {
      "cell_type": "markdown",
      "metadata": {
        "id": "X18cxKt5fxfr"
      },
      "source": [
        "#DATA PREPROCESSING"
      ]
    },
    {
      "cell_type": "markdown",
      "metadata": {
        "id": "XoV3Zk0Tf8YG"
      },
      "source": [
        "##READ FILES INTO DATASETS"
      ]
    },
    {
      "cell_type": "code",
      "metadata": {
        "id": "ZKyrfBCRgx0o"
      },
      "source": [
        "# Read kendaraan_train.csv file into DataFrame\n",
        "url_datatraining=\"https://cdn.discordapp.com/attachments/756550576640360469/833533583331164190/kendaraan_train.csv\"\n",
        "training=requests.get(url_datatraining).content\n",
        "datatraining = pd.read_csv(io.StringIO(training.decode('utf-8')))\n",
        "datatraining"
      ],
      "execution_count": null,
      "outputs": []
    },
    {
      "cell_type": "code",
      "metadata": {
        "id": "Bwk5Dd1Zg3d6"
      },
      "source": [
        "# Read kendaraan_test.csv file into DataFrame\n",
        "url_datatesting=\"https://cdn.discordapp.com/attachments/756550576640360469/833533558941024266/kendaraan_test.csv\"\n",
        "testing=requests.get(url_datatesting).content\n",
        "datatesting = pd.read_csv(io.StringIO(testing.decode('utf-8')))\n",
        "datatesting"
      ],
      "execution_count": null,
      "outputs": []
    },
    {
      "cell_type": "markdown",
      "metadata": {
        "id": "qLzJ3tTtf_-V"
      },
      "source": [
        "##LAKUKAN PENGECEKKAN MISSING DATA\n"
      ]
    },
    {
      "cell_type": "code",
      "metadata": {
        "id": "QJkGNjP_g521"
      },
      "source": [
        "#LAKUKAN PENGECEKKAN MISSING DATA TRAINING\n",
        "missing_datatraining = datatraining.isnull()\n",
        "missing_datatraining"
      ],
      "execution_count": null,
      "outputs": []
    },
    {
      "cell_type": "code",
      "metadata": {
        "id": "RdReEnSXg7oC"
      },
      "source": [
        "for column in missing_datatraining.columns.values.tolist():\n",
        "  print(column)\n",
        "  print(missing_datatraining[column].value_counts())\n",
        "  print(\"\")"
      ],
      "execution_count": null,
      "outputs": []
    },
    {
      "cell_type": "code",
      "metadata": {
        "id": "4l1UVMozhAvO"
      },
      "source": [
        "datatraining.info()"
      ],
      "execution_count": null,
      "outputs": []
    },
    {
      "cell_type": "code",
      "metadata": {
        "id": "hDMxHdY8hDk6"
      },
      "source": [
        "#LAKUKAN PENGECEKKAN MISSING DATA TESTING\n",
        "missing_datatesting = datatesting.isnull()\n",
        "missing_datatesting"
      ],
      "execution_count": null,
      "outputs": []
    },
    {
      "cell_type": "code",
      "metadata": {
        "id": "9ukNpS3OhFhe"
      },
      "source": [
        "for column in missing_datatesting.columns.values.tolist():\n",
        "  print(column)\n",
        "  print(missing_datatesting[column].value_counts())\n",
        "  print(\"\")"
      ],
      "execution_count": null,
      "outputs": []
    },
    {
      "cell_type": "code",
      "metadata": {
        "id": "7dHGhWYm5iDr"
      },
      "source": [
        "datatesting.info()"
      ],
      "execution_count": null,
      "outputs": []
    },
    {
      "cell_type": "markdown",
      "metadata": {
        "id": "iwn8TdcygD7e"
      },
      "source": [
        "##DROP UNUSED/UNECESARY COLUMN"
      ]
    },
    {
      "cell_type": "code",
      "metadata": {
        "id": "RGVkh5gPhKXY"
      },
      "source": [
        "datatraining.drop('id', axis=1, inplace=True)\n",
        "datatraining.drop('Tertarik', axis=1, inplace=True)\n",
        "\n",
        "datatraining"
      ],
      "execution_count": null,
      "outputs": []
    },
    {
      "cell_type": "code",
      "metadata": {
        "id": "_OEzaLjOhPSj"
      },
      "source": [
        "datatesting.drop('Tertarik', axis=1, inplace=True)\n",
        "\n",
        "datatesting"
      ],
      "execution_count": null,
      "outputs": []
    },
    {
      "cell_type": "markdown",
      "metadata": {
        "id": "6MDMH6nMgHNl"
      },
      "source": [
        "##MERGE DATA TESTING DAN DATA TRAINING"
      ]
    },
    {
      "cell_type": "code",
      "metadata": {
        "id": "yWM90LUEuDIX"
      },
      "source": [
        "DataKendaraan = datatraining.append(datatesting, ignore_index=True)\n",
        "\n",
        "DataKendaraan"
      ],
      "execution_count": null,
      "outputs": []
    },
    {
      "cell_type": "markdown",
      "metadata": {
        "id": "4dFs9kRauFkQ"
      },
      "source": [
        "###LAKUKAN EKSPERIMEN DATA"
      ]
    },
    {
      "cell_type": "code",
      "metadata": {
        "id": "xWl0ipgRuGq0"
      },
      "source": [
        "#PILIH DUA OBYEK YANG SEKIRANYA PALING BER KORELASI\n",
        "kanalPenjualan = DataKendaraan['Kanal_Penjualan']\n",
        "premi = DataKendaraan['Premi']\n",
        "\n",
        "dataNoClean = pd.DataFrame({\n",
        "    'Kanal_Penjualan' : kanalPenjualan,\n",
        "    'Premi' : premi\n",
        "})\n",
        "\n",
        "dataNoClean"
      ],
      "execution_count": null,
      "outputs": []
    },
    {
      "cell_type": "markdown",
      "metadata": {
        "id": "4LCCseFuuNGk"
      },
      "source": [
        "##HANDLE MISSING VALUE"
      ]
    },
    {
      "cell_type": "code",
      "metadata": {
        "id": "En-J13MzuOHb"
      },
      "source": [
        "# UMUR & JENIS KELAMIN => MODUS\n",
        "# 24 & PRIA\n",
        "DataKendaraan['Umur'].mode()\n",
        "DataKendaraan['Jenis_Kelamin'].mode()"
      ],
      "execution_count": null,
      "outputs": []
    },
    {
      "cell_type": "code",
      "metadata": {
        "id": "-eHAq3SxuSK4"
      },
      "source": [
        "DataKendaraan[\"Umur\"].replace(np.nan, 24, inplace=True)\n",
        "DataKendaraan['Jenis_Kelamin'].replace(np.nan, \"Pria\", inplace=True)\n",
        "\n",
        "DataKendaraan.head()"
      ],
      "execution_count": null,
      "outputs": []
    },
    {
      "cell_type": "code",
      "metadata": {
        "id": "wMB0JR0KuUTh"
      },
      "source": [
        "# UMUR KENDARAAN, SIM, SUDAH ASURANSI, KENDARAAN RUSAK => MODUS\n",
        "DataKendaraan['Umur_Kendaraan'].mode()\n",
        "\n",
        "DataKendaraan['Umur_Kendaraan'].replace(np.nan, \"1-2 Tahun\", inplace=True)"
      ],
      "execution_count": null,
      "outputs": []
    },
    {
      "cell_type": "code",
      "metadata": {
        "id": "zzZyVrKvuWXQ"
      },
      "source": [
        "# UMUR KENDARAAN, SIM, SUDAH ASURANSI => MODUS\n",
        "DataKendaraan['SIM'].mode()\n",
        "\n",
        "DataKendaraan['SIM'].replace(np.nan, 1.0, inplace=True)"
      ],
      "execution_count": null,
      "outputs": []
    },
    {
      "cell_type": "code",
      "metadata": {
        "id": "UmeCFOcduX6f"
      },
      "source": [
        "# UMUR KENDARAAN, SIM, SUDAH ASURANSI => MODUS\n",
        "DataKendaraan['Sudah_Asuransi'].mode()\n",
        "\n",
        "DataKendaraan['Sudah_Asuransi'].replace(np.nan, 0.0, inplace=True)"
      ],
      "execution_count": null,
      "outputs": []
    },
    {
      "cell_type": "code",
      "metadata": {
        "id": "c8ov1Iq3uaZr"
      },
      "source": [
        "# UMUR KENDARAAN, SIM, SUDAH ASURANSI => MODUS\n",
        "DataKendaraan['Kendaraan_Rusak'].mode()\n",
        "\n",
        "DataKendaraan['Kendaraan_Rusak'].replace(np.nan, \"Pernah\", inplace=True)"
      ],
      "execution_count": null,
      "outputs": []
    },
    {
      "cell_type": "code",
      "metadata": {
        "id": "ljnt_ZWaub_d"
      },
      "source": [
        "# UMUR KENDARAAN, SIM, SUDAH ASURANSI => MODUS\n",
        "DataKendaraan['Kode_Daerah'].mode()\n",
        "\n",
        "DataKendaraan['Kode_Daerah'].replace(np.nan, 28.0, inplace=True)"
      ],
      "execution_count": null,
      "outputs": []
    },
    {
      "cell_type": "code",
      "metadata": {
        "id": "FS-8yI7rueMs"
      },
      "source": [
        "# PREMI KANAL_PENJUALAN LAMA_BERLANGGANAN => MEAN\n",
        "\n",
        "avg_premi = DataKendaraan['Premi'].astype('float').mean(axis=0)\n",
        "avg_Kanal = DataKendaraan['Kanal_Penjualan'].astype('float').mean(axis=0)\n",
        "avg_Berlangganan = DataKendaraan['Lama_Berlangganan'].astype('float').mean(axis=0)\n",
        "\n",
        "DataKendaraan['Premi'].replace(np.nan, avg_premi, inplace=True)\n",
        "DataKendaraan['Kanal_Penjualan'].replace(np.nan, avg_Kanal, inplace=True)\n",
        "DataKendaraan['Lama_Berlangganan'].replace(np.nan, avg_Berlangganan, inplace=True)"
      ],
      "execution_count": null,
      "outputs": []
    },
    {
      "cell_type": "code",
      "metadata": {
        "id": "k4SyEdrMugnn"
      },
      "source": [
        "missing_data = DataKendaraan.isnull()"
      ],
      "execution_count": null,
      "outputs": []
    },
    {
      "cell_type": "code",
      "metadata": {
        "id": "HoaO8sCuuihP"
      },
      "source": [
        "for column in missing_data.columns.values.tolist():\n",
        "  print(column)\n",
        "  print(missing_data[column].value_counts())\n",
        "  print(\"\")"
      ],
      "execution_count": null,
      "outputs": []
    },
    {
      "cell_type": "markdown",
      "metadata": {
        "id": "_T0nQu2pumid"
      },
      "source": [
        "##GANTI TIPE OBJEK MENJADI TIPE KATEGORI"
      ]
    },
    {
      "cell_type": "code",
      "metadata": {
        "id": "FOLosYtCuopU"
      },
      "source": [
        "# UBAH OBJECT KE CATEGORY\n",
        "object_column = DataKendaraan.select_dtypes(['object']).columns\n",
        "\n",
        "category_column = DataKendaraan.select_dtypes(['category']).columns\n",
        "DataKendaraan[object_column]= DataKendaraan[object_column].apply(lambda x: x.astype('category'))"
      ],
      "execution_count": null,
      "outputs": []
    },
    {
      "cell_type": "code",
      "metadata": {
        "id": "iz_fQYmBuqxb"
      },
      "source": [
        "DataKendaraan.info()"
      ],
      "execution_count": null,
      "outputs": []
    },
    {
      "cell_type": "markdown",
      "metadata": {
        "id": "mymDkVypuu0O"
      },
      "source": [
        "###UBAH CATEGORICAL MENJADI NUMERICAL"
      ]
    },
    {
      "cell_type": "code",
      "metadata": {
        "id": "C1kNkV2duwUJ"
      },
      "source": [
        "# CAT.CODES -> CATEGORY => NGUBAH DATA CATEGORY KE NUMERIC-1,2,3,...\n",
        "\n",
        "DataKendaraan[object_column] = DataKendaraan[object_column].apply(lambda x: x.cat.codes)\n",
        "DataKendaraan[category_column] = DataKendaraan[category_column].apply(lambda x: x.cat.codes)"
      ],
      "execution_count": null,
      "outputs": []
    },
    {
      "cell_type": "code",
      "metadata": {
        "id": "qf9jOEniuzYJ"
      },
      "source": [
        "DataKendaraan.head()"
      ],
      "execution_count": null,
      "outputs": []
    },
    {
      "cell_type": "markdown",
      "metadata": {
        "id": "mLZQW-_wu1ge"
      },
      "source": [
        "##TAMPILKAN KOLOM YANG TERISI"
      ]
    },
    {
      "cell_type": "code",
      "metadata": {
        "id": "Ka96wlunu4DO"
      },
      "source": [
        "kanalPenjualan = DataKendaraan['Kanal_Penjualan']\n",
        "premi = DataKendaraan['Premi']\n",
        "\n",
        "dataCluster = pd.DataFrame({\n",
        "    'Kanal_Penjualan' : kanalPenjualan,\n",
        "    'Premi' : premi\n",
        "})\n",
        "\n",
        "dataWithOutlier = dataCluster\n",
        "dataCluster"
      ],
      "execution_count": null,
      "outputs": []
    },
    {
      "cell_type": "markdown",
      "metadata": {
        "id": "xMMcIw_pu6xk"
      },
      "source": [
        "##LAKUKAN PENGECEKKAN PENCILAN"
      ]
    },
    {
      "cell_type": "code",
      "metadata": {
        "id": "5Ko-6-1eu8w3"
      },
      "source": [
        "def check_outlier(data):\n",
        "  plt.figure(figsize=(60, 60))\n",
        "  f, axes = plt.subplots(1, 2)\n",
        "  sns.boxplot(y= data['Kanal_Penjualan'], ax= axes[0], color='yellow')\n",
        "  sns.boxplot(y= data['Premi'], ax=axes[1], color='yellow')\n",
        "  plt.subplots_adjust(wspace=1)\n",
        "\n",
        "check_outlier(dataCluster)"
      ],
      "execution_count": null,
      "outputs": []
    },
    {
      "cell_type": "markdown",
      "metadata": {
        "id": "GqLwxzM6u_sm"
      },
      "source": [
        "##HANDLE OUTLIERS DENGAN DATA CLEANSING"
      ]
    },
    {
      "cell_type": "code",
      "metadata": {
        "id": "bbUx3Av4vB81"
      },
      "source": [
        "#handle outlier Premi\n",
        "while True:\n",
        "  qlo1, qlo3 = np.percentile(dataCluster['Premi'],[25,75])\n",
        "  iqrlo = qlo3 - qlo1\n",
        "  lowerlo = qlo1 - (1.5 * iqrlo)\n",
        "  upperlo = qlo3 + (1.5 * iqrlo)\n",
        "  outlierlo = dataCluster[(dataCluster['Premi'] < (lowerlo)) | (dataCluster['Premi'] > (upperlo))]\n",
        "  print('amount of outlier data',outlierlo.shape[0]) #jumlah outlier data\n",
        "  idxlo = outlierlo.index\n",
        "  dataCluster.drop(idxlo, inplace=True) #drop outlier data\n",
        "  if (outlierlo.shape[0] <= 0):\n",
        "    break\n",
        "\n",
        "dataCluster['Premi'].describe()"
      ],
      "execution_count": null,
      "outputs": []
    },
    {
      "cell_type": "code",
      "metadata": {
        "id": "JValcc8PvD-V"
      },
      "source": [
        "def check_outlier_encode(data):\n",
        "  plt.figure(figsize=(60, 60))\n",
        "  f, axes = plt.subplots(1, 2)\n",
        "  sns.boxplot(y=data['Kanal_Penjualan'], ax= axes[0], color='yellow')\n",
        "  sns.boxplot(y= data['Premi'], ax=axes[1], color='yellow')\n",
        "  plt.subplots_adjust(wspace=1)\n",
        "\n",
        "check_outlier_encode(dataCluster)\n",
        "\n",
        "dataCluster.to_csv(r'/content/data_ready.csv', index=False, header=True)"
      ],
      "execution_count": null,
      "outputs": []
    },
    {
      "cell_type": "markdown",
      "metadata": {
        "id": "A_tV7jnivJr7"
      },
      "source": [
        "##NORMALISASIKAN TABEL"
      ]
    },
    {
      "cell_type": "code",
      "metadata": {
        "id": "kqgNBrb9vNUk"
      },
      "source": [
        "from sklearn.preprocessing import StandardScaler\n",
        "\n",
        "normalize = StandardScaler()\n",
        "df = normalize.fit_transform(dataCluster)\n",
        "\n",
        "df"
      ],
      "execution_count": null,
      "outputs": []
    },
    {
      "cell_type": "markdown",
      "metadata": {
        "id": "RJlaq8-evT4x"
      },
      "source": [
        "#K-MEANS PROCESSES"
      ]
    },
    {
      "cell_type": "markdown",
      "metadata": {
        "id": "pihKtAE1vXaH"
      },
      "source": [
        "##SHOW UNCLUSTERED PLOT"
      ]
    },
    {
      "cell_type": "code",
      "metadata": {
        "id": "LPYHnWeAvYU3"
      },
      "source": [
        "plt.scatter(df[:,0],df[:,1],c='black',label='unclustered data')\n",
        "\n",
        "plt.title('Unclustered Plots')\n",
        "\n",
        "plt.show()"
      ],
      "execution_count": null,
      "outputs": []
    },
    {
      "cell_type": "markdown",
      "metadata": {
        "id": "6oigaA3YvgLa"
      },
      "source": [
        "##BUAT K-MEANS FUNCTIONS"
      ]
    },
    {
      "cell_type": "code",
      "metadata": {
        "id": "vLk6qlhwvhYk"
      },
      "source": [
        "def k_means(x,k, no_iterations):\n",
        "    idx = np.random.choice(len(x), k)\n",
        "    EuclidianDistance = np.array([]).reshape(x.shape[0],0)\n",
        "    #PILIH CENTROID SECARA RANDOM \n",
        "    centroids = x[idx, :] \n",
        "     \n",
        "    #MENCARI JARAK ANTARA TIAP CENTROID DAN SEMUA DATA POINT\n",
        "    for i in range(k):\n",
        "      tempDist = np.sum((x-centroids[i])**2,axis = 1)\n",
        "      EuclidianDistance = np.c_[EuclidianDistance, tempDist]\n",
        "    \n",
        "    points = np.array([np.argmin(i) for i in EuclidianDistance])\n",
        "     \n",
        "    #MENGULANGI CARA DIATAS SEBANYAK ITERASI YANG DIINPUT\n",
        "    for _ in range(no_iterations): \n",
        "        centroids = []\n",
        "        EuclidianDistance = np.array([]).reshape(x.shape[0],0)\n",
        "        for idx in range(k):\n",
        "            #MELAKUKAN UPDATE CENTROID DENGAN MENGAMBIL RATA RATA CLUSTER\n",
        "            temp_cent = x[points==idx].mean(axis=0) \n",
        "            centroids.append(temp_cent)\n",
        "            \n",
        "        centroids = np.vstack(centroids) #UPDATE CENTROID \n",
        "         \n",
        "        for i in range(k):\n",
        "          tempDist = np.sum((x-centroids[i])**2,axis = 1)\n",
        "          EuclidianDistance = np.c_[EuclidianDistance, tempDist]\n",
        "  \n",
        "        points = np.array([np.argmin(i) for i in EuclidianDistance])\n",
        "         \n",
        "    return points, centroids"
      ],
      "execution_count": null,
      "outputs": []
    },
    {
      "cell_type": "markdown",
      "metadata": {
        "id": "RvhW0FlCvk3Q"
      },
      "source": [
        "##BUAT ELBOW METHOD"
      ]
    },
    {
      "cell_type": "code",
      "metadata": {
        "id": "T9mkedtzvq4p"
      },
      "source": [
        "from sklearn.cluster import KMeans #HANYA UNTUK ELBOW METHOD\n",
        "distortions = []\n",
        "K = range(1,10)\n",
        "for k in K:\n",
        "    kmeanModel = KMeans(n_clusters=k, max_iter=300)\n",
        "    kmeanModel.fit(df)\n",
        "    distortions.append(kmeanModel.inertia_)\n",
        "\n",
        "plt.plot(K, distortions, 'bx-')\n",
        "plt.xlabel('k')\n",
        "plt.ylabel('Distortion')\n",
        "plt.title('The Elbow Method showing the optimal k')\n",
        "plt.show()"
      ],
      "execution_count": null,
      "outputs": []
    },
    {
      "cell_type": "markdown",
      "metadata": {
        "id": "wpYBuDthvuxI"
      },
      "source": [
        "##LAKUKAN PLOTTING HASIL K-MEANS"
      ]
    },
    {
      "cell_type": "code",
      "metadata": {
        "id": "lTIOYP7gvxOP"
      },
      "source": [
        "#DARI ELBOW METHOD SEBELUMNYA K TERBAIK ADALAH 4\n",
        "label, centroid = k_means(df,4,300)\n",
        "label_centre = ['centroid 1', 'centroid 2', 'centroid 3', 'centroid 4']\n",
        "colors=['r', 'g', 'b', 'y', 'teal']\n",
        "j = 0\n",
        " \n",
        "u_labels = np.unique(label)\n",
        "\n",
        "for i in u_labels:\n",
        "    plt.scatter(df[label == i , 0] , df[label == i , 1] , c = colors[i], linewidths=1 ,alpha=0.5, edgecolors= 'k', label = i )\n",
        "\n",
        "for centre in centroid:\n",
        "    plt.scatter(centroid[: , 0] , centroid[: , 1] , s=200, c = 'violet',linewidths=1, edgecolors= 'k', label = label_centre[j])\n",
        "    j += 1\n",
        "\n",
        "plt.show()"
      ],
      "execution_count": null,
      "outputs": []
    },
    {
      "cell_type": "markdown",
      "metadata": {
        "id": "B7eYj9xDv2bu"
      },
      "source": [
        "##CARI NILAI SILHOUETTE METHOD TERBESAR DARI SETIAP N_CLUSTERS"
      ]
    },
    {
      "cell_type": "code",
      "metadata": {
        "id": "33n_l0Kev5Ib"
      },
      "source": [
        "from sklearn.metrics import silhouette_score\n",
        "sil_score = []\n",
        "\n",
        "for n_cluster in range(3, 7):\n",
        "    kmeans = KMeans(n_clusters=n_cluster).fit(df)\n",
        "    label = kmeans.labels_\n",
        "    sil_coeff = silhouette_score(df, label, metric='euclidean')\n",
        "    sil_score.append(sil_coeff)\n",
        "    print('Nilai Silhoutte Method untuk n_clusters = {} adalah {}'.format(n_cluster, sil_coeff))"
      ],
      "execution_count": null,
      "outputs": []
    },
    {
      "cell_type": "markdown",
      "metadata": {
        "id": "ULaP6BZrv8hE"
      },
      "source": [
        "#LAKUKAN EKSPERIMEN MENGGUNAKAN NILAI K YANG DIDAPAT"
      ]
    },
    {
      "cell_type": "markdown",
      "metadata": {
        "id": "4R86P50yv_wU"
      },
      "source": [
        "##K = 3, TETAPI DILAKUKAN DATA CLEANSING"
      ]
    },
    {
      "cell_type": "code",
      "metadata": {
        "id": "JLBVyf8wwA6S"
      },
      "source": [
        "label, centroid = k_means(df,3,300)\n",
        "label_centre = ['centroid 1', 'centroid 2', 'centroid 3', 'centroid 4']\n",
        "colors=['r', 'g', 'b', 'y', 'teal']\n",
        "j = 0\n",
        " \n",
        "u_labels = np.unique(label)\n",
        "\n",
        "for i in u_labels:\n",
        "    plt.scatter(df[label == i , 0] , df[label == i , 1] , c = colors[i], linewidths=1 ,alpha=0.5, edgecolors= 'k', label = i )\n",
        "\n",
        "for centre in centroid:\n",
        "    plt.scatter(centroid[: , 0] , centroid[: , 1] , s=200, c = 'violet',linewidths=1, edgecolors= 'k', label = label_centre[j])\n",
        "    j += 1\n",
        "\n",
        "plt.show()"
      ],
      "execution_count": null,
      "outputs": []
    },
    {
      "cell_type": "markdown",
      "metadata": {
        "id": "GOFNHqw4wFvs"
      },
      "source": [
        "##K = 3"
      ]
    },
    {
      "cell_type": "code",
      "metadata": {
        "id": "6pCMNQcXwO8B"
      },
      "source": [
        "from sklearn.preprocessing import StandardScaler\n",
        "\n",
        "normalize = StandardScaler()\n",
        "dataWithOutlier = normalize.fit_transform(dataWithOutlier)"
      ],
      "execution_count": null,
      "outputs": []
    },
    {
      "cell_type": "code",
      "metadata": {
        "id": "5ezQvi-zwQ47"
      },
      "source": [
        "from sklearn.cluster import KMeans #HANYA UNTUK ELBOW METHOD\n",
        "distortions = []\n",
        "K = range(1,10)\n",
        "for k in K:\n",
        "    kmeanModel = KMeans(n_clusters=k, max_iter=300)\n",
        "    kmeanModel.fit(dataWithOutlier)\n",
        "    distortions.append(kmeanModel.inertia_)\n",
        "\n",
        "plt.plot(K, distortions, 'bx-')\n",
        "plt.xlabel('k')\n",
        "plt.ylabel('Distortion')\n",
        "plt.title('The Elbow Method showing the optimal k')\n",
        "plt.show()"
      ],
      "execution_count": null,
      "outputs": []
    },
    {
      "cell_type": "code",
      "metadata": {
        "id": "UCC4fLPYwUN4"
      },
      "source": [
        "label, centroid = k_means(dataWithOutlier,3,300)\n",
        "label_centre = ['centroid 1', 'centroid 2', 'centroid 3', 'centroid 4']\n",
        "colors=['r', 'g', 'b', 'y', 'teal']\n",
        "j = 0\n",
        " \n",
        "u_labels = np.unique(label)\n",
        "\n",
        "for i in u_labels:\n",
        "    plt.scatter(df[label == i , 0] , df[label == i , 1] , c = colors[i], linewidths=1 ,alpha=0.5, edgecolors= 'k', label = i )\n",
        "\n",
        "for centre in centroid:\n",
        "    plt.scatter(centroid[: , 0] , centroid[: , 1] , s=200, c = 'violet',linewidths=1, edgecolors= 'k', label = label_centre[j])\n",
        "    j += 1\n",
        "\n",
        "plt.show()"
      ],
      "execution_count": null,
      "outputs": []
    },
    {
      "cell_type": "markdown",
      "metadata": {
        "id": "CYfz7nHswXLc"
      },
      "source": [
        "##K = 4"
      ]
    },
    {
      "cell_type": "code",
      "metadata": {
        "id": "f4b9PvVcwZ_z"
      },
      "source": [
        "label, centroid = k_means(dataWithOutlier,4,300)\n",
        "label_centre = ['centroid 1', 'centroid 2', 'centroid 3', 'centroid 4']\n",
        "colors=['r', 'g', 'b', 'y', 'teal']\n",
        "j = 0\n",
        " \n",
        "u_labels = np.unique(label)\n",
        "\n",
        "for i in u_labels:\n",
        "    plt.scatter(df[label == i , 0] , df[label == i , 1] , c = colors[i], linewidths=1 ,alpha=0.5, edgecolors= 'k', label = i )\n",
        "\n",
        "for centre in centroid:\n",
        "    plt.scatter(centroid[: , 0] , centroid[: , 1] , s=200, c = 'violet',linewidths=1, edgecolors= 'k', label = label_centre[j])\n",
        "    j += 1\n",
        "\n",
        "plt.show()"
      ],
      "execution_count": null,
      "outputs": []
    }
  ]
}